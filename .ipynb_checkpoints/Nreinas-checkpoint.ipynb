{
 "cells": [
  {
   "cell_type": "code",
   "execution_count": 53,
   "id": "f6ca470e",
   "metadata": {},
   "outputs": [],
   "source": [
    "\n",
    "\n",
    "def reinas(N, etapa=0, solucion = [], j=0):\n",
    "    solucion = ([0] * N) if not solucion else solucion\n",
    "    for i in range(1, N + 1):\n",
    "        solucion[etapa] = i\n",
    "        if es_prometedora(solucion, etapa):\n",
    "            if etapa == N - 1:\n",
    "                j = j + 1\n",
    "                print('[ jugada',j,']:', solucion)\n",
    "            else:\n",
    "                j = reinas(N, etapa + 1, solucion, j)\n",
    "        solucion[etapa] = 0\n",
    "    return j\n",
    "\n",
    "def es_prometedora(SOLUCION, etapa):\n",
    "    for i in range(etapa + 1):\n",
    "        if SOLUCION.count(SOLUCION[i]) > 1: return False\n",
    "        for j in range(i + 1, etapa + 1):\n",
    "            if abs(i-j) == abs(SOLUCION[i] - SOLUCION[j]): return False\n",
    "    return True\n",
    "\n"
   ]
  }
 ],
 "metadata": {
  "kernelspec": {
   "display_name": "Python 3 (ipykernel)",
   "language": "python",
   "name": "python3"
  },
  "language_info": {
   "codemirror_mode": {
    "name": "ipython",
    "version": 3
   },
   "file_extension": ".py",
   "mimetype": "text/x-python",
   "name": "python",
   "nbconvert_exporter": "python",
   "pygments_lexer": "ipython3",
   "version": "3.9.7"
  }
 },
 "nbformat": 4,
 "nbformat_minor": 5
}
